{
 "cells": [
  {
   "cell_type": "markdown",
   "id": "f1f068e4",
   "metadata": {},
   "source": [
    "#    Tic Tac Toe Assignment\n",
    "###     Mayank Jadon\n",
    "###     Emp id: 14643"
   ]
  },
  {
   "cell_type": "code",
   "execution_count": 1,
   "id": "ccf6fa4b",
   "metadata": {},
   "outputs": [],
   "source": [
    "import random\n",
    "import numpy as np"
   ]
  },
  {
   "cell_type": "markdown",
   "id": "279f3cff",
   "metadata": {},
   "source": [
    " Creating 2-D Array to display Board\n"
   ]
  },
  {
   "cell_type": "code",
   "execution_count": 2,
   "id": "36677a1f",
   "metadata": {},
   "outputs": [],
   "source": [
    "board = [\n",
    "  [\"-\", \"-\", \"-\"],\n",
    "  [\"-\", \"-\", \"-\"],\n",
    "  [\"-\", \"-\", \"-\"]\n",
    "]\n"
   ]
  },
  {
   "cell_type": "markdown",
   "id": "502c302e",
   "metadata": {},
   "source": [
    "Initializing Player's Name"
   ]
  },
  {
   "cell_type": "code",
   "execution_count": 3,
   "id": "531daeee",
   "metadata": {},
   "outputs": [
    {
     "name": "stdout",
     "output_type": "stream",
     "text": [
      "Player 1 : Mayank \n",
      "Player 2 : Shailesh\n"
     ]
    }
   ],
   "source": [
    "players = ['','']\n",
    "players[0] = input(\"Player 1 : \")\n",
    "players[1] = input(\"Player 2 : \")\n",
    "user = True                                 # when true it refers to x, otherwise o\n",
    "turns = 0\n",
    "   \n",
    "    \n",
    "      "
   ]
  },
  {
   "cell_type": "code",
   "execution_count": 4,
   "id": "49dd8624",
   "metadata": {},
   "outputs": [
    {
     "name": "stdout",
     "output_type": "stream",
     "text": [
      "- - - \n",
      "- - - \n",
      "- - - \n"
     ]
    }
   ],
   "source": [
    "def print_board(board):\n",
    "    for row in board:\n",
    "        for slot in row:\n",
    "            print(f\"{slot} \",end = \"\")\n",
    "        print() \n",
    "print_board(board)\n"
   ]
  },
  {
   "cell_type": "markdown",
   "id": "cfa0974f",
   "metadata": {},
   "source": [
    "Creating Quit function to Quit the game anytime"
   ]
  },
  {
   "cell_type": "code",
   "execution_count": 5,
   "id": "31c50003",
   "metadata": {},
   "outputs": [],
   "source": [
    "def quit(user_input):\n",
    "      if user_input.lower() == \"quit\":   #input can be either quit or QUIT so converting it to lower case\n",
    "        print(\"Thanks for playing\")\n",
    "        return True\n",
    "      else: return False"
   ]
  },
  {
   "cell_type": "markdown",
   "id": "12801cdf",
   "metadata": {},
   "source": [
    "Checking for valid input i.e input is a number or not "
   ]
  },
  {
   "cell_type": "code",
   "execution_count": 6,
   "id": "497c2aec",
   "metadata": {},
   "outputs": [],
   "source": [
    "def check_input(user_input):\n",
    "  # check if its a number\n",
    "  if not isnum(user_input): return False\n",
    "  user_input = int(user_input)\n",
    "  # check if its 1 - 9\n",
    "  if not bounds(user_input): return False\n",
    "\n",
    "  return True"
   ]
  },
  {
   "cell_type": "code",
   "execution_count": 7,
   "id": "2847eadc",
   "metadata": {},
   "outputs": [],
   "source": [
    "def isnum(user_input):\n",
    "  if not user_input.isnumeric(): \n",
    "    print(\"This is not a valid number\")\n",
    "    return False\n",
    "  else: return True\n"
   ]
  },
  {
   "cell_type": "markdown",
   "id": "34079d88",
   "metadata": {},
   "source": [
    "Checking for numeric input between 0-9"
   ]
  },
  {
   "cell_type": "code",
   "execution_count": 8,
   "id": "3cce50c0",
   "metadata": {},
   "outputs": [],
   "source": [
    "\n",
    "def bounds(user_input):\n",
    "  if user_input > 9 or user_input < 1: \n",
    "    print(\"This is number is out of bounds\")\n",
    "    return False\n",
    "  else: return True\n",
    "\n"
   ]
  },
  {
   "cell_type": "markdown",
   "id": "e2f5f93b",
   "metadata": {},
   "source": [
    "Checking for Occupied spaces so as to avoid overlapping"
   ]
  },
  {
   "cell_type": "code",
   "execution_count": 9,
   "id": "e47d415c",
   "metadata": {},
   "outputs": [],
   "source": [
    "def istaken(coords, board):\n",
    "  row = coords[0]\n",
    "  col = coords[1]\n",
    "  if board[row][col] != \"-\":\n",
    "    print(\"This position is already taken.\")\n",
    "    return True\n",
    "  else: return False\n"
   ]
  },
  {
   "cell_type": "code",
   "execution_count": 10,
   "id": "fc5e75ea",
   "metadata": {},
   "outputs": [],
   "source": [
    "def coordinates(user_input):    #getting the coordinates i.e rows and columns\n",
    "  row = int(user_input / 3)\n",
    "  col = user_input\n",
    "  if col > 2: col = int(col % 3)\n",
    "  return (row,col)\n",
    "\n"
   ]
  },
  {
   "cell_type": "markdown",
   "id": "ad56b9fc",
   "metadata": {},
   "source": [
    "Adding Current Input to Board"
   ]
  },
  {
   "cell_type": "code",
   "execution_count": 11,
   "id": "985c85a8",
   "metadata": {},
   "outputs": [],
   "source": [
    "def add_to_board(coords, board, active_user):\n",
    "  row = coords[0]\n",
    "  col = coords[1]\n",
    "  board[row][col] = active_user\n",
    "\n"
   ]
  },
  {
   "cell_type": "markdown",
   "id": "21b1a033",
   "metadata": {},
   "source": [
    "To Display Current Player's Chance"
   ]
  },
  {
   "cell_type": "code",
   "execution_count": 12,
   "id": "3541de77",
   "metadata": {},
   "outputs": [],
   "source": [
    "def current_user(user):\n",
    "  if user: return \"x\"\n",
    "  else: return \"o\"\n",
    "\n"
   ]
  },
  {
   "cell_type": "markdown",
   "id": "051be542",
   "metadata": {},
   "source": [
    "##### Checking for the winner"
   ]
  },
  {
   "cell_type": "code",
   "execution_count": 13,
   "id": "ff6941e3",
   "metadata": {},
   "outputs": [],
   "source": [
    "def iswin(user, board):\n",
    "  if check_row(user, board): return True\n",
    "  if check_col(user, board): return True\n",
    "  if check_diag(user, board): return True\n",
    "  return False\n",
    "\n"
   ]
  },
  {
   "cell_type": "markdown",
   "id": "4b6c4db7",
   "metadata": {},
   "source": [
    "Checking Win through Rows"
   ]
  },
  {
   "cell_type": "code",
   "execution_count": 14,
   "id": "d885925a",
   "metadata": {},
   "outputs": [],
   "source": [
    "def check_row(user, board):\n",
    "  for row in board:\n",
    "    complete_row = True\n",
    "    for slot in row:\n",
    "      if slot != user:\n",
    "        complete_row = False\n",
    "        break\n",
    "    if complete_row: return True\n",
    "  return False \n"
   ]
  },
  {
   "cell_type": "markdown",
   "id": "9b0fb2ae",
   "metadata": {},
   "source": [
    "Through Columns"
   ]
  },
  {
   "cell_type": "code",
   "execution_count": 15,
   "id": "4decf242",
   "metadata": {},
   "outputs": [],
   "source": [
    "\n",
    "def check_col(user, board):\n",
    "  for col in range(3):\n",
    "    complete_col = True\n",
    "    for row in range(3):\n",
    "      if board[row][col] != user:\n",
    "        complete_col = False\n",
    "        break\n",
    "    if complete_col: return True\n",
    "  return False\n",
    "\n",
    "def check_diag(user, board):\n",
    "  #top left to bottom right\n",
    "  if board[0][0] == user and board[1][1] == user and board[2][2] == user: return True\n",
    "  elif board[0][2] == user and board[1][1] == user and board[2][0] == user: return True\n",
    "  else: return False"
   ]
  },
  {
   "cell_type": "markdown",
   "id": "788eb13c",
   "metadata": {},
   "source": [
    "Through Diagonals"
   ]
  },
  {
   "cell_type": "code",
   "execution_count": 16,
   "id": "80f8c7f7",
   "metadata": {},
   "outputs": [],
   "source": [
    "def check_diag(user, board):\n",
    "  #top left to bottom right\n",
    "  if board[0][0] == user and board[1][1] == user and board[2][2] == user: return True\n",
    "  elif board[0][2] == user and board[1][1] == user and board[2][0] == user: return True\n",
    "  else: return False"
   ]
  },
  {
   "cell_type": "markdown",
   "id": "10455a75",
   "metadata": {},
   "source": [
    "#### Implementing all the created functions"
   ]
  },
  {
   "cell_type": "code",
   "execution_count": 17,
   "id": "bf96f4af",
   "metadata": {},
   "outputs": [
    {
     "name": "stdout",
     "output_type": "stream",
     "text": [
      "\n",
      "This is your turn x\n",
      "- - - \n",
      "- - - \n",
      "- - - \n",
      "Please enter a position 1 through 9 or enter \"quit\" to quit:1\n",
      "\n",
      "This is your turn o\n",
      "x - - \n",
      "- - - \n",
      "- - - \n",
      "Please enter a position 1 through 9 or enter \"quit\" to quit:2\n",
      "\n",
      "This is your turn x\n",
      "x o - \n",
      "- - - \n",
      "- - - \n",
      "Please enter a position 1 through 9 or enter \"quit\" to quit:5\n",
      "\n",
      "This is your turn o\n",
      "x o - \n",
      "- x - \n",
      "- - - \n",
      "Please enter a position 1 through 9 or enter \"quit\" to quit:3\n",
      "\n",
      "This is your turn x\n",
      "x o o \n",
      "- x - \n",
      "- - - \n",
      "Please enter a position 1 through 9 or enter \"quit\" to quit:5\n",
      "This position is already taken.\n",
      "Please try again.\n",
      "\n",
      "This is your turn x\n",
      "x o o \n",
      "- x - \n",
      "- - - \n",
      "Please enter a position 1 through 9 or enter \"quit\" to quit:9\n",
      "Congratulations X won!\n"
     ]
    }
   ],
   "source": [
    "while turns < 9:                                           #checking for turns less than 9\n",
    "  active_user = current_user(user)                         #switching User\n",
    "  print(\"\\nThis is your turn\",active_user)                   #Displaying user\n",
    "  print_board(board)                                       #printing Board after every input\n",
    "  user_input = input(\"Please enter a position 1 through 9 or enter \\\"quit\\\" to quit:\")\n",
    "  if quit(user_input): break                               #checking for Quit Input\n",
    "  if not check_input(user_input):\n",
    "    print(\"Please try again.\")\n",
    "    continue                                               #if not quit then run loop again \n",
    "  user_input = int(user_input) - 1                         #since input is between 1-9 and in programming we have indexing from\n",
    "  coords = coordinates(user_input)                         #0 so subtracting 1 to make it in order\n",
    "  if istaken(coords, board):  \n",
    "    print(\"Please try again.\")                             #checking for Occupied Places\n",
    "    continue\n",
    "  add_to_board(coords, board, active_user)\n",
    "  if iswin(active_user, board):                            #checking for Win Conditions\n",
    "    print(f\"Congratulations {active_user.upper()} won!\")\n",
    "    break\n",
    "  \n",
    "  turns += 1                                               #Incrementing turns everytime\n",
    "  if turns == 9: print(\"Tie!\")                             #If turns=9 and no win condition is achieved then print Tie!\n",
    "  user = not user                                          #switching through the users "
   ]
  },
  {
   "cell_type": "code",
   "execution_count": null,
   "id": "6a39ab56",
   "metadata": {},
   "outputs": [],
   "source": []
  }
 ],
 "metadata": {
  "kernelspec": {
   "display_name": "Python 3",
   "language": "python",
   "name": "python3"
  },
  "language_info": {
   "codemirror_mode": {
    "name": "ipython",
    "version": 3
   },
   "file_extension": ".py",
   "mimetype": "text/x-python",
   "name": "python",
   "nbconvert_exporter": "python",
   "pygments_lexer": "ipython3",
   "version": "3.7.7"
  }
 },
 "nbformat": 4,
 "nbformat_minor": 5
}
